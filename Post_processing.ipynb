{
 "cells": [
  {
   "cell_type": "markdown",
   "id": "98afbd0f",
   "metadata": {},
   "source": [
    "# Post-Processing\n",
    "All parameters, which can/should be changed are described in the corresponding cell."
   ]
  },
  {
   "cell_type": "markdown",
   "id": "3c46020f",
   "metadata": {},
   "source": [
    "## Load Packages"
   ]
  },
  {
   "cell_type": "code",
   "execution_count": null,
   "id": "543b7439",
   "metadata": {},
   "outputs": [],
   "source": [
    "%matplotlib notebook\n",
    "import util"
   ]
  },
  {
   "cell_type": "markdown",
   "id": "b9771b5f",
   "metadata": {},
   "source": [
    "## Load data"
   ]
  },
  {
   "cell_type": "code",
   "execution_count": null,
   "id": "e6b896b6",
   "metadata": {},
   "outputs": [],
   "source": [
    "# Initialize postprocessing\n",
    "analyse = util.PostProcessor()\n",
    "# Load data\n",
    "# poisson_noise... spectra corrupted by poisson noise\n",
    "analyse.load_data(poisson_noise = True)"
   ]
  },
  {
   "cell_type": "markdown",
   "id": "23e1e08b",
   "metadata": {},
   "source": [
    "## Align spectra (optional)"
   ]
  },
  {
   "cell_type": "code",
   "execution_count": null,
   "id": "172eb7fe",
   "metadata": {},
   "outputs": [],
   "source": [
    "# Select feature for cross correlation (sharp peak)\n",
    "analyse.align_spectra_init()"
   ]
  },
  {
   "cell_type": "code",
   "execution_count": null,
   "id": "fb459549",
   "metadata": {},
   "outputs": [],
   "source": [
    "# Plot PCA-denoised and smoothed spectra, which are only used for aligning\n",
    "s_denoised = analyse.plot_aligning(n=70, sigma = 2)"
   ]
  },
  {
   "cell_type": "code",
   "execution_count": null,
   "id": "a275a1ed",
   "metadata": {},
   "outputs": [],
   "source": [
    "# n... Number of components for reconstructing the spectra used for cross correlation\n",
    "# vmin, vmax... contrast for spectra shift plot\n",
    "analyse.align_spectra_calc(s_denoised, vmin = -0.5, vmax = 0.5)"
   ]
  },
  {
   "cell_type": "code",
   "execution_count": null,
   "id": "61b346e5",
   "metadata": {},
   "outputs": [],
   "source": [
    "# max_shift.. maximum shift of the spectra\n",
    "analyse.align_spectra_apply(s_denoised, max_shift = 0.2)"
   ]
  },
  {
   "cell_type": "code",
   "execution_count": null,
   "id": "d53aaa22",
   "metadata": {},
   "outputs": [],
   "source": [
    "#import matplotlib.pyplot as plt\n",
    "#import os\n",
    "\n",
    "# Location of saving results\n",
    "#analyse.path_post = os.path.join(analyse.path_EELS, 'Post_Processing')\n",
    "\n",
    " # If folder is already present, ask to overwrite files\n",
    "#if not os.path.exists(analyse.path_post):          \n",
    "#    os.mkdir(analyse.path_post)\n",
    "            \n",
    "            \n",
    "#fig = plt.gcf()  \n",
    "#ax = plt.gca()  \n",
    "#fig.set_size_inches(4, 3)\n",
    "#ax.get_lines()[0].set_linewidth(4)\n",
    "#ax.get_lines()[1].set_linewidth(2)\n",
    "#ax.set_ylabel('Intensity / a.u.')\n",
    "#ax.set_xlabel('Energy loss / eV')\n",
    "#ax.set_title('')\n",
    "#ax.axes.get_yaxis().set_ticks([])\n",
    "#fig.tight_layout()\n",
    "#fig.savefig(os.path.join(analyse.path_post, str('Aligning') + '.png'), dpi = 400,  bbox_inches='tight', pad_inches=0.01)\n",
    "#print('Figure saved at: ' + os.path.join(analyse.path_post, str('Aligning') + '.png'))"
   ]
  },
  {
   "cell_type": "code",
   "execution_count": null,
   "id": "04be2226",
   "metadata": {},
   "outputs": [],
   "source": [
    "# Save current figure (latest open figure)\n",
    "#analyse.save_fig(name = 'Spectra_Aligning')"
   ]
  },
  {
   "cell_type": "markdown",
   "id": "5166faf8",
   "metadata": {},
   "source": [
    "## Crop spectra"
   ]
  },
  {
   "cell_type": "code",
   "execution_count": null,
   "id": "51a4e071",
   "metadata": {},
   "outputs": [],
   "source": [
    "# Select cropping range for EELS\n",
    "analyse.select_crop()"
   ]
  },
  {
   "cell_type": "code",
   "execution_count": null,
   "id": "f537e6f8",
   "metadata": {},
   "outputs": [],
   "source": [
    "# Crop EELS\n",
    "analyse.crop()"
   ]
  },
  {
   "cell_type": "markdown",
   "id": "ea6fde02",
   "metadata": {},
   "source": [
    "## Clustering\n",
    "algorithm from _'Dimensionality reduction and unsupervised clustering for EELS-SI'_\n",
    "\n",
    "[https://doi.org/10.1016/j.ultramic.2021.113314](https://doi.org/10.1016/j.ultramic.2021.113314)"
   ]
  },
  {
   "cell_type": "code",
   "execution_count": null,
   "id": "e29e4629",
   "metadata": {},
   "outputs": [],
   "source": [
    "# Initialize clustering (PCA decomposition)\n",
    "# n_plot... maximum number of components in the scree plot\n",
    "analyse.cluster_pca(n_plot = 60)"
   ]
  },
  {
   "cell_type": "code",
   "execution_count": null,
   "id": "f3f3b932",
   "metadata": {},
   "outputs": [],
   "source": [
    "# Dimension reduction with t-SNE\n",
    "# n_denoise_cluster... number of components for denoising used for clustering-algorithm\n",
    "# perplexity_tsne... t-SNE - related to the number of nearest neighbors that is used in other manifold learning algorithms (between 5 to 50)\n",
    "analyse.clustering_init(n_denoise_cluster = 3, perplexity_tsne = 30)"
   ]
  },
  {
   "cell_type": "code",
   "execution_count": null,
   "id": "d897e27b",
   "metadata": {},
   "outputs": [],
   "source": [
    "# OPTICS clustering\n",
    "# eps_optics... estimate from reacability plot for clustering\n",
    "#analyse.clustering(eps_optics = 30, cmap = 'hsv', shuffle = False) # --> better for continuous labeling\n",
    "analyse.clustering(eps_optics = 90, cmap = 'tab10', shuffle = True) # --> better for discrete labeling and spectra averging"
   ]
  },
  {
   "cell_type": "code",
   "execution_count": null,
   "id": "e6e0be1f",
   "metadata": {},
   "outputs": [],
   "source": [
    "# Save current figure (latest open figure)\n",
    "#analyse.save_fig(name = 'Clustering')"
   ]
  },
  {
   "cell_type": "code",
   "execution_count": null,
   "id": "dec71d0f",
   "metadata": {},
   "outputs": [],
   "source": [
    "# Average spectra of same cluster\n",
    "# k_min... minimum of points of the same cluster\n",
    "analyse.clustering_spectra(k_min = 200)"
   ]
  },
  {
   "cell_type": "markdown",
   "id": "53f759d6",
   "metadata": {},
   "source": [
    "## Find atom positions\n",
    "using _Atomap_.\n",
    "\n",
    "[https://doi.org/10.1186/s40679-017-0042-5](https://doi.org/10.1186/s40679-017-0042-5)"
   ]
  },
  {
   "cell_type": "code",
   "execution_count": null,
   "id": "d637a63e",
   "metadata": {},
   "outputs": [],
   "source": [
    "# Determine atom positions\n",
    "# s_low... minimum distance between atoms in pixel\n",
    "analyse.atom_positioning(s_low = 2)\n",
    "\n",
    "# Remove atoms\n",
    "Selector = util.atom_selector(analyse.atom_positions, analyse.s_darkfield.data, map_label = False)"
   ]
  },
  {
   "cell_type": "code",
   "execution_count": null,
   "id": "8e3521fb",
   "metadata": {},
   "outputs": [],
   "source": [
    "# Add/Remove single atoms - close figure after finishing selecting\n",
    "analyse.atom_positions = Selector.atom_positions\n",
    "analyse.atom_positioning_single(analyse.s_darkfield.data, analyse.atom_positions, stacking = False)"
   ]
  },
  {
   "cell_type": "code",
   "execution_count": null,
   "id": "8a533ce3",
   "metadata": {
    "scrolled": false
   },
   "outputs": [],
   "source": [
    "# Refine atom positions\n",
    "analyse.refine_positions()"
   ]
  },
  {
   "cell_type": "markdown",
   "id": "ordinary-plenty",
   "metadata": {},
   "source": [
    "# Drift Correction"
   ]
  },
  {
   "cell_type": "code",
   "execution_count": null,
   "id": "369e467f",
   "metadata": {},
   "outputs": [],
   "source": [
    "# Calculate laticce vectors\n",
    "analyse.lattice_calc()"
   ]
  },
  {
   "cell_type": "code",
   "execution_count": null,
   "id": "b64ef58e",
   "metadata": {},
   "outputs": [],
   "source": [
    "# Drift correction\n",
    "# vector_ind... select index from lattice above, which should match the x_crystal and y_crystal vectors\n",
    "# crystal_x... selected vector (vector_ind[0]) is shifted to crystal_x\n",
    "# crystal_y... selected vector (vector_ind[1]) is shifted to crystal_y\n",
    "analyse.drift_correction(vector_ind = [0, 1], crystal_x = [1,0], crystal_y = [0,1], scaling = False)"
   ]
  },
  {
   "cell_type": "markdown",
   "id": "66c27343",
   "metadata": {},
   "source": [
    "## Stacking & Aligning\n",
    "Aligning by the _SmartAlign_ algorithm.\n",
    "\n",
    "[https://doi.org/10.1186/s40679-015-0008-4](https://doi.org/10.1186/s40679-015-0008-4)"
   ]
  },
  {
   "cell_type": "code",
   "execution_count": null,
   "id": "c6a4c807",
   "metadata": {},
   "outputs": [],
   "source": [
    "# Choose atoms for stacking\n",
    "# drift_corr... use drift corrected images or raw images\n",
    "analyse.drift_on_off(drift_corr = True)\n",
    "Selector = util.atom_selector(analyse.atom_position_stacking, analyse.darkfield_stacking, analyse.labels_shaped_stacking, analyse.newcmp, map_label = True)"
   ]
  },
  {
   "cell_type": "code",
   "execution_count": null,
   "id": "20abfa40",
   "metadata": {},
   "outputs": [],
   "source": [
    "# Add/Remove single atoms for stacking - close figure after finishing selecting\n",
    "analyse.atom_position_stacking = Selector.atom_positions\n",
    "analyse.atom_positioning_single(analyse.darkfield_stacking, analyse.atom_position_stacking)"
   ]
  },
  {
   "cell_type": "code",
   "execution_count": null,
   "id": "99055d2a",
   "metadata": {},
   "outputs": [],
   "source": [
    "# Crop cells and stack them\n",
    "# width... width of the cells in pixels\n",
    "# height... height of the cells in pixels\n",
    "# shift_x... shifting all points in x-direction\n",
    "# shift_y... shifting all points in y-direction\n",
    "analyse.stacking(width = 45, height = 25, shift_x = -10, shift_y = 0)"
   ]
  },
  {
   "cell_type": "code",
   "execution_count": null,
   "id": "8d5afe07",
   "metadata": {},
   "outputs": [],
   "source": [
    "# Save current figure (latest open figure)\n",
    "#analyse.save_fig(name = 'Stacking')"
   ]
  },
  {
   "cell_type": "code",
   "execution_count": null,
   "id": "b9a73651",
   "metadata": {
    "scrolled": false
   },
   "outputs": [],
   "source": [
    "# Alinging according SmartAlign algorithm\n",
    "# i_rigid... Iterations for rigid alignment\n",
    "# max_shift... Maximum rigid shift (finds maximum correlation within these limits)\n",
    "# i_non_rigid_it... Iterations of non-rigid alignment (if blurry images, set to 0)\n",
    "# i_non_rigid_max... Iteration of non-rigid alignment for each cell\n",
    "# row... Lock distortion field ('fitted'... linear fit of distortion, 'locked'... constant fit of distortion field)\n",
    "\n",
    "aligner = util.Aligner(analyse.dark_field_stack)\n",
    "\n",
    "aligner.rigid_align(i_rigid = 1, max_shift = (4, 4))\n",
    "aligner.non_rigid_align(i_non_rigid_it = 1, i_non_rigid_max = 500, row = 'locked')\n",
    "\n",
    "aligner.plot_aligned()"
   ]
  },
  {
   "cell_type": "markdown",
   "id": "71aa67d7",
   "metadata": {},
   "source": [
    "## L2-norm"
   ]
  },
  {
   "cell_type": "code",
   "execution_count": null,
   "id": "554f47aa",
   "metadata": {},
   "outputs": [],
   "source": [
    "# Calculate L2-norm\n",
    "# norming... Norming function for each cell ('max'... divide by cell maximum, 'mean'... divide by cell mean, 'kernel'... gaussian smoothing)\n",
    "# exponent... Using other norms as L2\n",
    "analyse.darkfield_aligned = aligner.image_align\n",
    "darkfield_aligned_norm = analyse.L2_init(norming = 'mean', exponent = 2)\n",
    "util.L2_Selector(darkfield_aligned_norm, analyse.L2_norm)"
   ]
  },
  {
   "cell_type": "code",
   "execution_count": null,
   "id": "1e4ce741",
   "metadata": {},
   "outputs": [],
   "source": [
    "# Keep percentage of best slices\n",
    "# n_ratio... Percentage of cells which should be kept (if None --> take calulated limit)\n",
    "# norming... Use same norming function as above\n",
    "# exponent... Use same exponent as above\n",
    "analyse.L2_norm_process(n_ratio = 1, norming = 'mean', exponent = 2)"
   ]
  },
  {
   "cell_type": "code",
   "execution_count": null,
   "id": "2fa666f0",
   "metadata": {},
   "outputs": [],
   "source": [
    "# Save current figure (latest open figure)\n",
    "#analyse.save_fig(name = 'Aligned')"
   ]
  },
  {
   "cell_type": "code",
   "execution_count": null,
   "id": "839952fa",
   "metadata": {},
   "outputs": [],
   "source": [
    "# Align EELS-signal\n",
    "analyse.EELS_sum_aligned = aligner.align_second(analyse.EELS, analyse.index_image_stack, analyse.slice_L2_excluded)"
   ]
  },
  {
   "cell_type": "markdown",
   "id": "aeb58b0c",
   "metadata": {},
   "source": [
    "## Fine structure mapping"
   ]
  },
  {
   "cell_type": "code",
   "execution_count": null,
   "id": "1ce165a2",
   "metadata": {},
   "outputs": [],
   "source": [
    "# Determine background and signal\n",
    "analyse.EELS_region()"
   ]
  },
  {
   "cell_type": "code",
   "execution_count": null,
   "id": "ef97075b",
   "metadata": {},
   "outputs": [],
   "source": [
    "# Plot background and signal\n",
    "# background_fun... Background function ('PowerLaw' or 'Exponential')\n",
    "# signal_plot... Plot only signal (otherwise: averaged, background, initial fit, fit)\n",
    "analyse.EELS_background(background_fit = 'Powerlaw', signal_plot = False)"
   ]
  },
  {
   "cell_type": "code",
   "execution_count": null,
   "id": "d9c1169d",
   "metadata": {
    "scrolled": false
   },
   "outputs": [],
   "source": [
    "# Interactive estimation of PCA-components\n",
    "# background_fit... background fit function\n",
    "# fast.. fast background removal\n",
    "selector_pca = util.Selector_pca(analyse, background_fit = 'Power law', fast = True)"
   ]
  },
  {
   "cell_type": "code",
   "execution_count": null,
   "id": "8fa1b03b",
   "metadata": {},
   "outputs": [],
   "source": [
    "# Save current figure (latest open figure)\n",
    "#analyse.save_fig(name = 'PCA_denoising', size = (10,10))"
   ]
  },
  {
   "cell_type": "code",
   "execution_count": null,
   "id": "4f79b00e",
   "metadata": {},
   "outputs": [],
   "source": [
    "# Save denoised EELS spectrum with selected number of components for investigation in GMS (import rpl)\n",
    "# pca_denoised... Save PCA-denoised spectrum image or averaged spectrum image\n",
    "# n... Number of components used for denoising if pca_denoised is true (if none last selected number of components from plots is taken)\n",
    "selector_pca.save_eels(pca_denoised = True, n = 3710)"
   ]
  },
  {
   "cell_type": "markdown",
   "id": "2a8f7502",
   "metadata": {},
   "source": [
    "## Save notebook for documentation"
   ]
  },
  {
   "cell_type": "code",
   "execution_count": null,
   "id": "a8574f0c",
   "metadata": {},
   "outputs": [],
   "source": [
    "%%javascript\n",
    "var nb = IPython.notebook;\n",
    "var kernel = IPython.notebook.kernel;\n",
    "var command = \"NOTEBOOK_FULL_PATH = '\" + nb.base_url + nb.notebook_path + \"'\";\n",
    "kernel.execute(command);"
   ]
  },
  {
   "cell_type": "code",
   "execution_count": null,
   "id": "8ad6de39",
   "metadata": {},
   "outputs": [],
   "source": [
    "util.saving_notebook(analyse.path_EELS, NOTEBOOK_FULL_PATH, name_notebook = '\\\\Post_processing.ipynb')"
   ]
  },
  {
   "cell_type": "code",
   "execution_count": null,
   "id": "a1b77c8d",
   "metadata": {},
   "outputs": [],
   "source": []
  }
 ],
 "metadata": {
  "kernelspec": {
   "display_name": "Python 3 (ipykernel)",
   "language": "python",
   "name": "python3"
  },
  "language_info": {
   "codemirror_mode": {
    "name": "ipython",
    "version": 3
   },
   "file_extension": ".py",
   "mimetype": "text/x-python",
   "name": "python",
   "nbconvert_exporter": "python",
   "pygments_lexer": "ipython3",
   "version": "3.7.11"
  },
  "varInspector": {
   "cols": {
    "lenName": 16,
    "lenType": 16,
    "lenVar": 40
   },
   "kernels_config": {
    "python": {
     "delete_cmd_postfix": "",
     "delete_cmd_prefix": "del ",
     "library": "var_list.py",
     "varRefreshCmd": "print(var_dic_list())"
    },
    "r": {
     "delete_cmd_postfix": ") ",
     "delete_cmd_prefix": "rm(",
     "library": "var_list.r",
     "varRefreshCmd": "cat(var_dic_list()) "
    }
   },
   "types_to_exclude": [
    "module",
    "function",
    "builtin_function_or_method",
    "instance",
    "_Feature"
   ],
   "window_display": false
  }
 },
 "nbformat": 4,
 "nbformat_minor": 5
}
